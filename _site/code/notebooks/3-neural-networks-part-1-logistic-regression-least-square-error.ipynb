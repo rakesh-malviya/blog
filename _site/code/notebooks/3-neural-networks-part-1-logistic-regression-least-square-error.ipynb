{
 "cells": [
  {
   "cell_type": "code",
   "execution_count": 7,
   "metadata": {
    "collapsed": true
   },
   "outputs": [],
   "source": [
    "import numpy as np\n",
    "import pandas as pd\n",
    "import matplotlib.pyplot as plt\n",
    "import seaborn as sb\n",
    "from sqlalchemy.util.compat import import_\n",
    "%matplotlib inline"
   ]
  },
  {
   "cell_type": "code",
   "execution_count": 8,
   "metadata": {},
   "outputs": [
    {
     "data": {
      "text/plain": [
       "<matplotlib.collections.PathCollection at 0x7f0970964fd0>"
      ]
     },
     "execution_count": 8,
     "metadata": {},
     "output_type": "execute_result"
    },
    {
     "data": {
      "image/png": "[encoded data removed]",
      "text/plain": [
       "<matplotlib.figure.Figure at 0x7f09709eaad0>"
      ]
     },
     "metadata": {},
     "output_type": "display_data"
    }
   ],
   "source": [
    "# Generate dataset for classification\n",
    "from sklearn.datasets import make_classification\n",
    "plt.title(\"Two informative features, one cluster per class\", fontsize='small')\n",
    "X1, Y1 = make_classification(n_samples=2000,n_features=2, n_redundant=0, n_informative=2,\n",
    "                             n_clusters_per_class=1)\n",
    "\n",
    "# Preprocess data\n",
    "from sklearn.preprocessing import StandardScaler\n",
    "scaler = StandardScaler()\n",
    "scaler.fit(X1)\n",
    "X1 = scaler.transform(X1)\n",
    "\n",
    "plt.scatter(X1[:, 0], X1[:, 1], marker='o', c=Y1,\n",
    "            s=25, edgecolor='k')"
   ]
  },
  {
   "cell_type": "code",
   "execution_count": 9,
   "metadata": {},
   "outputs": [
    {
     "data": {
      "text/plain": [
       "(2000, 2)"
      ]
     },
     "execution_count": 9,
     "metadata": {},
     "output_type": "execute_result"
    }
   ],
   "source": [
    "import numpy as np\n",
    "X1.shape"
   ]
  },
  {
   "cell_type": "code",
   "execution_count": 10,
   "metadata": {},
   "outputs": [
    {
     "name": "stdout",
     "output_type": "stream",
     "text": [
      "((1600, 2), (400, 2))\n"
     ]
    }
   ],
   "source": [
    "# Generate Train test split for cross valiation\n",
    "from sklearn.model_selection import train_test_split\n",
    "X_train, X_test, y_train, y_test = train_test_split(X1, Y1,\n",
    "                test_size=0.2, random_state=0)\n",
    "print(X_train.shape,X_test.shape)"
   ]
  },
  {
   "cell_type": "code",
   "execution_count": 11,
   "metadata": {
    "collapsed": true
   },
   "outputs": [],
   "source": [
    "W=np.zeros(X_train.shape[1])\n",
    "bias = 0"
   ]
  },
  {
   "cell_type": "code",
   "execution_count": 12,
   "metadata": {
    "collapsed": true
   },
   "outputs": [],
   "source": [
    "import math\n",
    "\n",
    "def sigmoid(x):\n",
    "    return 1 / (1 + math.exp(-x))"
   ]
  },
  {
   "cell_type": "code",
   "execution_count": 13,
   "metadata": {},
   "outputs": [
    {
     "data": {
      "text/plain": [
       "200.0"
      ]
     },
     "execution_count": 13,
     "metadata": {},
     "output_type": "execute_result"
    }
   ],
   "source": [
    "loss = 0\n",
    "for i in range(X_train.shape[0]):\n",
    "    y_pred = sigmoid(np.dot(X_train[i],W) + bias) #sigma(u)\n",
    "    y = y_train[i]\n",
    "    loss += (y - y_pred)*(y - y_pred)\n",
    "loss = loss/2\n",
    "loss"
   ]
  },
  {
   "cell_type": "code",
   "execution_count": 14,
   "metadata": {},
   "outputs": [
    {
     "name": "stdout",
     "output_type": "stream",
     "text": [
      "J, Train loss:200.000000\n",
      "J, Test loss:50.000000\n",
      "Training accuracy: 50.687500\n",
      "Validation accuracy: 47.250000\n",
      "J, Train loss:84.064872\n",
      "J, Test loss:22.194320\n",
      "Training accuracy: 96.625000\n",
      "Validation accuracy: 95.500000\n",
      "J, Train loss:51.446629\n",
      "J, Test loss:14.098710\n",
      "Training accuracy: 98.937500\n",
      "Validation accuracy: 98.000000\n",
      "J, Train loss:36.464512\n",
      "J, Test loss:10.409204\n",
      "Training accuracy: 99.437500\n",
      "Validation accuracy: 98.750000\n",
      "J, Train loss:28.248816\n",
      "J, Test loss:8.417663\n",
      "Training accuracy: 99.500000\n",
      "Validation accuracy: 98.750000\n",
      "J, Train loss:23.165009\n",
      "J, Test loss:7.201972\n",
      "Training accuracy: 99.625000\n",
      "Validation accuracy: 98.750000\n",
      "J, Train loss:19.739916\n",
      "J, Test loss:6.391732\n",
      "Training accuracy: 99.687500\n",
      "Validation accuracy: 98.750000\n",
      "J, Train loss:17.286556\n",
      "J, Test loss:5.816402\n",
      "Training accuracy: 99.687500\n",
      "Validation accuracy: 98.750000\n",
      "J, Train loss:15.447191\n",
      "J, Test loss:5.388173\n",
      "Training accuracy: 99.687500\n",
      "Validation accuracy: 98.750000\n",
      "J, Train loss:14.018911\n",
      "J, Test loss:5.057703\n",
      "Training accuracy: 99.687500\n",
      "Validation accuracy: 98.750000\n"
     ]
    }
   ],
   "source": [
    "# Find accuracy\n",
    "def accuracy_metric(actual, predicted):\n",
    "    correct = 0\n",
    "    for i in range(len(actual)):\n",
    "        if (actual[i]>0.5) == (predicted[i]>0.5):\n",
    "            correct += 1\n",
    "    return correct / float(len(actual)) * 100.0\n",
    "\n",
    "# Training\n",
    "max_epoch = 100\n",
    "lr = 0.001\n",
    "Training_data = {\"trainLoss\":[],\"testLoss\":[],\"trainAcc\":[],\"testAcc\":[]}\n",
    "for epoch in range(max_epoch):\n",
    "    YP = []\n",
    "    loss = 0\n",
    "    for i in range(X_train.shape[0]):\n",
    "        y_pred_temp = sigmoid(np.dot(X_train[i],W)+bias)        \n",
    "        loss += (y_train[i] - y_pred_temp)*(y_train[i] - y_pred_temp) #J\n",
    "        YP.append(y_pred_temp)\n",
    "        \n",
    "    loss = loss/2\n",
    "        \n",
    "    YP_test = []\n",
    "    loss_test = 0\n",
    "    for i in range(X_test.shape[0]):\n",
    "        y_pred_temp = sigmoid(np.dot(X_test[i],W)+bias)        \n",
    "        loss_test += (y_test[i] - y_pred_temp)*(y_test[i] - y_pred_temp) #J\n",
    "        YP_test.append(y_pred_temp)        \n",
    "    \n",
    "    loss_test = loss_test/2\n",
    "    trainAcc = accuracy_metric(y_train,YP)\n",
    "    testAcc = accuracy_metric(y_test,YP_test)\n",
    "    \n",
    "    Training_data[\"trainLoss\"].append(loss/X_train.shape[0])\n",
    "    Training_data[\"testLoss\"].append(loss_test/X_test.shape[0])\n",
    "    Training_data[\"trainAcc\"].append(trainAcc)\n",
    "    Training_data[\"testAcc\"].append(testAcc)\n",
    "    \n",
    "    \n",
    "    if epoch%10==0:\n",
    "        print(\"J, Train loss:%f\" %(loss))\n",
    "        print(\"J, Test loss:%f\" %(loss_test))\n",
    "        print(\"Training accuracy: %f\" %(trainAcc))\n",
    "        print(\"Validation accuracy: %f\" %(testAcc))\n",
    "        \n",
    "    YP = np.array(YP)\n",
    "    \n",
    "    #Update bias\n",
    "    grad_bias = 0\n",
    "    for i in range(X_train.shape[0]):\n",
    "        grad_bias += (YP[i] - y_train[i])*(YP[i])*(1-YP[i]) #dJ/db\n",
    "    bias = bias - grad_bias*lr\n",
    "    \n",
    "    #Update weights    \n",
    "    for j in range(len(W)):\n",
    "        grad_wj = 0        \n",
    "        for i in range(X_train.shape[0]):\n",
    "            grad_wj += (YP[i] - y_train[i])*(YP[i])*(1-YP[i])*(X_train[i][j]) #dJ/dW\n",
    "        W[j] = W[j] - grad_wj*lr\n",
    "        \n",
    "    \n",
    "    \n",
    "                "
   ]
  },
  {
   "cell_type": "code",
   "execution_count": 15,
   "metadata": {},
   "outputs": [
    {
     "data": {
      "image/png": "[encoded data removed]",
      "text/plain": [
       "<matplotlib.figure.Figure at 0x7f097104f350>"
      ]
     },
     "metadata": {},
     "output_type": "display_data"
    }
   ],
   "source": [
    "t = range(max_epoch)\n",
    "plt.plot(t, Training_data['trainLoss'],label='Train Loss, J')\n",
    "plt.plot(t,Training_data['testLoss'],label=\"Test Loss, J\")\n",
    "plt.legend(bbox_to_anchor=(1.05, 1), loc=2, borderaxespad=0.)\n",
    "plt.show()"
   ]
  },
  {
   "cell_type": "code",
   "execution_count": null,
   "metadata": {
    "collapsed": true
   },
   "outputs": [],
   "source": []
  }
 ],
 "metadata": {
  "kernelspec": {
   "display_name": "Python 2",
   "language": "python",
   "name": "python2"
  },
  "language_info": {
   "codemirror_mode": {
    "name": "ipython",
    "version": 2
   },
   "file_extension": ".py",
   "mimetype": "text/x-python",
   "name": "python",
   "nbconvert_exporter": "python",
   "pygments_lexer": "ipython2",
   "version": "2.7.12"
  }
 },
 "nbformat": 4,
 "nbformat_minor": 1
}
